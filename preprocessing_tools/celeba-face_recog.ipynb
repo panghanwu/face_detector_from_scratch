{
 "cells": [
  {
   "cell_type": "code",
   "execution_count": 5,
   "metadata": {},
   "outputs": [],
   "source": [
    "import shutil\n",
    "from pathlib import Path\n",
    "\n",
    "import matplotlib.pyplot as plt\n",
    "import numpy as np\n",
    "import pandas as pd\n",
    "\n",
    "IMAGE_SOURCE_PATH: str = 'CelebA/img_align_celeba'\n",
    "img_src_path = Path(IMAGE_SOURCE_PATH)"
   ]
  },
  {
   "cell_type": "code",
   "execution_count": 6,
   "metadata": {},
   "outputs": [
    {
     "data": {
      "text/html": [
       "<div>\n",
       "<style scoped>\n",
       "    .dataframe tbody tr th:only-of-type {\n",
       "        vertical-align: middle;\n",
       "    }\n",
       "\n",
       "    .dataframe tbody tr th {\n",
       "        vertical-align: top;\n",
       "    }\n",
       "\n",
       "    .dataframe thead th {\n",
       "        text-align: right;\n",
       "    }\n",
       "</style>\n",
       "<table border=\"1\" class=\"dataframe\">\n",
       "  <thead>\n",
       "    <tr style=\"text-align: right;\">\n",
       "      <th></th>\n",
       "      <th>0</th>\n",
       "      <th>1</th>\n",
       "    </tr>\n",
       "  </thead>\n",
       "  <tbody>\n",
       "    <tr>\n",
       "      <th>0</th>\n",
       "      <td>000001.jpg</td>\n",
       "      <td>2880</td>\n",
       "    </tr>\n",
       "    <tr>\n",
       "      <th>1</th>\n",
       "      <td>000002.jpg</td>\n",
       "      <td>2937</td>\n",
       "    </tr>\n",
       "    <tr>\n",
       "      <th>2</th>\n",
       "      <td>000003.jpg</td>\n",
       "      <td>8692</td>\n",
       "    </tr>\n",
       "    <tr>\n",
       "      <th>3</th>\n",
       "      <td>000004.jpg</td>\n",
       "      <td>5805</td>\n",
       "    </tr>\n",
       "    <tr>\n",
       "      <th>4</th>\n",
       "      <td>000005.jpg</td>\n",
       "      <td>9295</td>\n",
       "    </tr>\n",
       "  </tbody>\n",
       "</table>\n",
       "</div>"
      ],
      "text/plain": [
       "            0     1\n",
       "0  000001.jpg  2880\n",
       "1  000002.jpg  2937\n",
       "2  000003.jpg  8692\n",
       "3  000004.jpg  5805\n",
       "4  000005.jpg  9295"
      ]
     },
     "execution_count": 6,
     "metadata": {},
     "output_type": "execute_result"
    }
   ],
   "source": [
    "IDENTITY_LABEL_PATH: str = 'CelebA/Anno/identity_CelebA.txt'\n",
    "identity_df = pd.read_csv(IDENTITY_LABEL_PATH, sep=' ', header=None)\n",
    "\n",
    "identity_df.head()"
   ]
  },
  {
   "cell_type": "code",
   "execution_count": 7,
   "metadata": {},
   "outputs": [
    {
     "data": {
      "text/plain": [
       "(array([ 834.,  611.,  764.,  551.,  564., 2114., 1078.,  808., 2845.,\n",
       "           8.]),\n",
       " array([ 1. ,  4.4,  7.8, 11.2, 14.6, 18. , 21.4, 24.8, 28.2, 31.6, 35. ]),\n",
       " <BarContainer object of 10 artists>)"
      ]
     },
     "execution_count": 7,
     "metadata": {},
     "output_type": "execute_result"
    },
    {
     "data": {
      "image/png": "[encoded data removed]",
      "text/plain": [
       "<Figure size 640x480 with 1 Axes>"
      ]
     },
     "metadata": {},
     "output_type": "display_data"
    }
   ],
   "source": [
    "group_nums = identity_df.groupby(1)[0].nunique()\n",
    "\n",
    "plt.hist(group_nums)"
   ]
  },
  {
   "cell_type": "markdown",
   "metadata": {},
   "source": [
    "# Cook the Dataset"
   ]
  },
  {
   "cell_type": "code",
   "execution_count": 11,
   "metadata": {},
   "outputs": [
    {
     "data": {
      "application/vnd.jupyter.widget-view+json": {
       "model_id": "04a4a5f7debf42afa0d4d0a549eb6c23",
       "version_major": 2,
       "version_minor": 0
      },
      "text/plain": [
       "  0%|          | 0/16 [00:00<?, ?it/s]"
      ]
     },
     "metadata": {},
     "output_type": "display_data"
    },
    {
     "name": "stdout",
     "output_type": "stream",
     "text": [
      "Total number: 285\n"
     ]
    }
   ],
   "source": [
    "from tqdm.notebook import tqdm\n",
    "\n",
    "DST_DIR: str = '../datasets/celeba-recog-16/'\n",
    "N_IDENTITIES: int = 16\n",
    "VLA_RATIO: float = 0.1\n",
    "RANDOM_SAMPLING: bool = True\n",
    "\n",
    "dst_dir = Path(DST_DIR)\n",
    "train_mapping_list = []\n",
    "val_mapping_list = []\n",
    "total = 0\n",
    "max_index = identity_df[1].max()\n",
    "\n",
    "def lottery(p=0.8) -> bool:\n",
    "    return np.random.rand() < p\n",
    "\n",
    "output_id = list(range(N_IDENTITIES))\n",
    "if RANDOM_SAMPLING:\n",
    "    sample_id = np.random.choice(range(max_index), size=N_IDENTITIES, replace=False)\n",
    "else:\n",
    "    sample_id = output_id\n",
    "\n",
    "for sample_i, label_i in zip(tqdm(sample_id), output_id):\n",
    "    data = identity_df[0][identity_df[1] == sample_i]\n",
    "    for img_fn in data:\n",
    "        to_train = lottery(1.0 - VLA_RATIO)\n",
    "        train_val = 'train' if to_train else 'val'\n",
    "\n",
    "        to_dst_dir = (dst_dir / train_val) / 'images'\n",
    "        if not to_dst_dir.exists():\n",
    "            to_dst_dir.mkdir(parents=True)\n",
    "\n",
    "        dst_path = to_dst_dir / img_fn\n",
    "        img_scr_path = img_src_path / img_fn\n",
    "        shutil.copy(img_scr_path, dst_path)\n",
    "\n",
    "        label = (img_fn, label_i)\n",
    "        if to_train:\n",
    "            train_mapping_list.append(label)\n",
    "        else:\n",
    "            val_mapping_list.append(label)\n",
    "\n",
    "        total += 1\n",
    "\n",
    "pd.DataFrame(train_mapping_list).to_csv((dst_dir / 'train') / 'mapping.csv', header=False, index=False)\n",
    "if len(val_mapping_list):\n",
    "    pd.DataFrame(val_mapping_list).to_csv((dst_dir / 'val') / 'mapping.csv', header=False, index=False)\n",
    "\n",
    "print(f'Total number: {total}')"
   ]
  }
 ],
 "metadata": {
  "kernelspec": {
   "display_name": "python311",
   "language": "python",
   "name": "python3"
  },
  "language_info": {
   "codemirror_mode": {
    "name": "ipython",
    "version": 3
   },
   "file_extension": ".py",
   "mimetype": "text/x-python",
   "name": "python",
   "nbconvert_exporter": "python",
   "pygments_lexer": "ipython3",
   "version": "3.11.9"
  }
 },
 "nbformat": 4,
 "nbformat_minor": 2
}
